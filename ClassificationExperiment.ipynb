from sklearn.datasets import load_svmlight_file
from sklearn.model_selection import train_test_split
import matplotlib.pyplot as plt
import numpy.random

def get_data():
    data = load_svmlight_file("australian_scale")
    return data[0], data[1]

def loss(W, X, y, b, C):
    _loss = 0   
    for i in range(len(W)):
        _loss+=W[i]*W[i]/2
    for i in range(len(y)):
        minus = 0
        for j in range(len(W)):
            minus+=y[i]*W[j]*X[i,j]
        minus = 1 - minus - y[i]*b
        _loss+=max(minus, 0)*C
    return _loss

def gradient(W, X, y, b, C):
    gri = [W[i] for i in range(14)]
    
    for i in range(len(y)):
        fx = 0
        for j in range(len(W)):
             fx+=y[i]*W[j]*X[i,j]
        fx+=y[i]*b
        if (fx <= 1):
            for j in range(len(W)):
                gri[j]-=C*y[i]*X[i,j]
    return gri

def decent(W, G, l):
    for i in range(len(W)):
        W[i]-=l*G[i]
        
def optimize(W, X_train, y_train, X_validation, y_validation, times, b, C):
    loss_train = []
    loss_validation = []
    step = [0.01, 0.001, 0.0001, 0.00001]
    for i in range(times):
        dW = gradient(W, X_train, y_train, b, C)
        _loss = loss(W, X_train, y_train, b, C)
        if (_loss > 2000000):
            decent(W, dW, step[0])
        elif (_loss > 300000):
            decent(W, dW, step[1])
        elif (_loss > 100000):
            decent(W, dW, step[2])
        else:
            decent(W, dW, step[3])
        loss_train.append(_loss)
        loss_validation.append(loss(W, X_validation, y_validation, b, C))
    return loss_train, loss_validation
   
def main():
    X, y = get_data()
    X = X.todense()
    X_train, X_validation, y_train, y_validation = train_test_split(
        X, y, test_size=0.3)

    W = [numpy.random.normal() for i in range(14)]
    b = numpy.random.normal()
    C = 100000
    
    print(loss(W, X_validation, y_validation, b,C))
    loss_train, loss_validation = optimize(W, X_train, y_train, X_validation, y_validation, 8, b, 100)
    print(loss(W, X_validation, y_validation, b, C))
   
    x1=range(1,9)
    x2=range(1,9)
    plt.figure(figsize=(10, 6))
    plt.plot(x1,loss_train,'',label="train set")
    plt.plot(x2,loss_validation,'',label="validation set")
    plt.legend(loc='upper right')
    plt.xlabel('times')
    plt.ylabel('loss')
    plt.show()
    
main()
