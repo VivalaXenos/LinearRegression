from sklearn.datasets import load_svmlight_file
from sklearn.model_selection import train_test_split
import matplotlib.pyplot as plt
import numpy.random

def get_data():
    data = load_svmlight_file("housing_scale")
    return data[0], data[1]

def loss(W, X, y, b):
    _loss = 0
    for i in range(len(y)):
        _fx = 0
        for j in range(len(W)):
            _fx += W[j]*X[i,j] + b
        ll = (y[i] - _fx)
        ll *= ll
        _loss += ll
    _loss *= 0.5
    return _loss

def gradient(W, X, y):
    gri = []
    
    for i in range(len(W)):
        mem = 0
        square = 0
        for j in range(len(y)):
            mem+=y[j]*X[j,i]
            for k in range(len(W)):
                square+=X[j,k]*X[j,k]
        gri.append(square*W[i]-mem)
    return gri

def decent(W, G, l):
    for i in range(len(W)):
        W[i] -=l*G[i]
        
def optimize(W, X_train, y_train, X_validation, y_validation, times, b):
    step = [0.01, 0.0001, 0.00001, 0.00001]
    loss_train = []
    loss_validation = []
    for i in range(times):
        dW = gradient(W, X_train, y_train)
        _loss = loss(W, X_train, y_train, b)
        if (_loss > 200000):
            decent(W, dW, step[0])
        elif (_loss > 30000):
            decent(W, dW, step[1])
        elif (_loss > 10000):
            decent(W, dW, step[2])
        else:
            decent(W, dW, step[3])
        loss_train.append(_loss)
        loss_validation.append(loss(W, X_validation, y_validation, b))
    return loss_train, loss_validation
   
def main():
    X, y = get_data()
    X_train, X_validation, y_train, y_validation = train_test_split(
        X, y, test_size=0.3)

    W = [numpy.random.normal() for i in range(13)]
    b = numpy.random.normal()
    
    print(loss(W, X_validation, y_validation, b))
    loss_train, loss_validation = optimize(W, X_train, y_train, X_validation, y_validation, 8, b)
    print(loss(W, X_validation, y_validation, b))
   
    x1=range(1,9)
    x2=range(1,9)
    plt.figure(figsize=(10, 6))
    plt.plot(x1,loss_train,'',label="train set")
    plt.plot(x2,loss_validation,'',label="validation set")
    plt.legend(loc='upper right')
    plt.xlabel('times')
    plt.ylabel('loss')
    plt.show()
    
main()
